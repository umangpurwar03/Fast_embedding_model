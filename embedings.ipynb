{
 "cells": [
  {
   "cell_type": "code",
   "execution_count": 1,
   "metadata": {},
   "outputs": [
    {
     "name": "stdout",
     "output_type": "stream",
     "text": [
      ".....document_loaded.....\n",
      ".....document_splitter.....\n",
      ".....document_splitted.....\n"
     ]
    },
    {
     "name": "stderr",
     "output_type": "stream",
     "text": [
      "d:\\job_ready\\Gen AI\\NLP\\Langchain\\Embedings\\vyoage AI\\fast_embedings\\venv\\lib\\site-packages\\tqdm\\auto.py:21: TqdmWarning: IProgress not found. Please update jupyter and ipywidgets. See https://ipywidgets.readthedocs.io/en/stable/user_install.html\n",
      "  from .autonotebook import tqdm as notebook_tqdm\n",
      "Fetching 9 files:   0%|          | 0/9 [00:00<?, ?it/s]d:\\job_ready\\Gen AI\\NLP\\Langchain\\Embedings\\vyoage AI\\fast_embedings\\venv\\lib\\site-packages\\huggingface_hub\\file_download.py:149: UserWarning: `huggingface_hub` cache-system uses symlinks by default to efficiently store duplicated files but your machine does not support them in C:\\Users\\umang\\AppData\\Local\\Temp\\fastembed_cache\\models--qdrant--bge-small-en-v1.5-onnx-q. Caching files will still work but in a degraded version that might require more space on your disk. This warning can be disabled by setting the `HF_HUB_DISABLE_SYMLINKS_WARNING` environment variable. For more details, see https://huggingface.co/docs/huggingface_hub/how-to-cache#limitations.\n",
      "To support symlinks on Windows, you either need to activate Developer Mode or to run Python as an administrator. In order to see activate developer mode, see this article: https://docs.microsoft.com/en-us/windows/apps/get-started/enable-your-device-for-development\n",
      "  warnings.warn(message)\n",
      "Fetching 9 files: 100%|██████████| 9/9 [00:00<00:00, 16.97it/s]\n"
     ]
    },
    {
     "name": "stdout",
     "output_type": "stream",
     "text": [
      ".....document_loaded_at_db.....\n"
     ]
    }
   ],
   "source": [
    "#fastembed\n",
    "# Import necessary modules\n",
    "from langchain_community.embeddings.fastembed import FastEmbedEmbeddings\n",
    "from langchain.vectorstores import FAISS\n",
    "from langchain.document_loaders import PyPDFLoader, DirectoryLoader\n",
    "from langchain.text_splitter import RecursiveCharacterTextSplitter, CharacterTextSplitter\n",
    "import os\n",
    "import threading\n",
    "\n",
    "# Define paths\n",
    "data_dir = 'data/'\n",
    "faiss_db = 'vectorstore/db_faiss'\n",
    "\n",
    "# Function to create a vector database\n",
    "def create_vector_db():\n",
    "    # Check if the directory exists, if not, create it\n",
    "    if not os.path.exists(data_dir):\n",
    "        os.makedirs(faiss_db)\n",
    "    \n",
    "    # Create a DirectoryLoader instance to load PDF documents\n",
    "    loader = DirectoryLoader(data_dir,\n",
    "                            glob='*.pdf',\n",
    "                            loader_cls=PyPDFLoader,\n",
    "                            use_multithreading=True)\n",
    "    \n",
    "    # Load documents from the directory\n",
    "    document = loader.load()\n",
    "    print('.....document_loaded.....')\n",
    "    \n",
    "    # Initialize a text splitter to divide documents into chunks\n",
    "    text_splitter = RecursiveCharacterTextSplitter(chunk_size=1000,\n",
    "                                                  chunk_overlap=100)\n",
    "    print('.....document_splitter.....')\n",
    "    \n",
    "    # Split documents into smaller text chunks\n",
    "    texts = text_splitter.split_documents(document)\n",
    "    print('.....document_splitted.....')\n",
    "    \n",
    "    # Initialize HuggingFaceEmbeddings using a specific model\n",
    "    embeddings = FastEmbedEmbeddings()\n",
    "    \n",
    "    # Create a vector store using FAISS from the text chunks and embeddings\n",
    "    db = FAISS.from_documents(texts, embeddings)\n",
    "    print('.....document_loaded_at_db.....')\n",
    "    \n",
    "    # Save the vector store locally\n",
    "    db.save_local(faiss_db)\n",
    "\n",
    "if __name__ == \"__main__\":\n",
    "    # Create a new thread to execute the function\n",
    "    document_thread = threading.Thread(target=create_vector_db)\n",
    "    document_thread.start()\n",
    "    document_thread.join()\n"
   ]
  },
  {
   "cell_type": "code",
   "execution_count": 2,
   "metadata": {},
   "outputs": [
    {
     "name": "stderr",
     "output_type": "stream",
     "text": [
      "Fetching 9 files: 100%|██████████| 9/9 [00:00<00:00, 14095.87it/s]\n"
     ]
    },
    {
     "name": "stdout",
     "output_type": "stream",
     "text": [
      "[Document(page_content='gene or genes.\\nGene —A building block of inheritance, made up of\\na compound called DNA (deoxyribonucleic acid)and containing the instructions for the productionof a particular protein. Each gene is found on a spe-cific location on a chromosome.\\nMagnetic resonance imaging (MRI) —A test whichuses an external magnetic field instead of x rays to\\nvisualize different tissues of the body.\\nMyelin sheath —The cover that surrounds many\\nnerve cells and helps to increase the speed bywhich information travels along the nerve.\\nNeurofibromatosis type 2 (NF2) —A hereditary\\ncondition associated with an increased risk of bilat-eral acoustic neuromas, other nerve cell tumors andcataracts.\\nProtein —A substance produced by a gene that is\\ninvolved in creating the traits of the human bodysuch as hair and eye color or is involved in control-ling the basic functions of the human body.\\nSchwannoma —A tumor derived from the cells of\\nthe myelin sheath that surrounds many nerve cells.', metadata={'source': 'data\\\\71763-gale-encyclopedia-of-medicine.-vol.-1.-2nd-ed.pdf', 'page': 42}), Document(page_content='chantability or fitness for a particular purpose, nor does itguarantee the accuracy, comprehensiveness, or timelinessof the information contained in this product. Readersshould be aware that the universe of medical knowledgeis constantly growing and changing, and that differencesof medical opinion exist among authorities. Readers arealso advised to seek professional diagnosis and treatmentfor any medical condition, and to discuss informationobtained from this book with their health care provider.\\nGALE ENCYCLOPEDIA OF MEDICINE 2 VIIPLEASE READ—IMPORTANT INFORMATION', metadata={'source': 'data\\\\71763-gale-encyclopedia-of-medicine.-vol.-1.-2nd-ed.pdf', 'page': 5}), Document(page_content='Resources\\nBOOKS\\nVan de Graff, Kent M., and Stuart I. Fox. Concepts of Human\\nAnatomy and Physiology. Dubuque, IA: Wm. C. Brown\\nPublishers 1986.\\nORGANIZATIONS\\nAmerican Medical Association. 515 N. State St., Chicago, IL\\n60612. (312) 464-5000. <http://www.ama-assn.org>.\\nOTHER\\n“When and Why an Autopsy is Ordered After Death.” Universi-\\nty of Texas Lifetime Health Letter 9, no.5 (May 1997): 4-5.\\nJeffrey P. Larson, RPT\\nAviation medicine\\nDefinition\\nAlso known as aerospace medicine, flight medicine,\\nor space medicine, aviation medicine is a medical spe-cialty that focuses on the physical and psychologicalconditions associated with flying and space travel.\\nPurpose\\nSince flying airplanes and spacecraft involves great\\nrisk and physical demands, such as changes in gravityand oxygen, pilots and astronauts need medical expertsto protect their safety and the public’s safety.\\nDescription\\nPressure changes\\nIn the United States, the Federal Aviation Adminis-', metadata={'source': 'data\\\\71763-gale-encyclopedia-of-medicine.-vol.-1.-2nd-ed.pdf', 'page': 440}), Document(page_content='cancer.\\nComputed tomography (CT) scan —A medical pro-\\ncedure where a series of X-rays are taken and puttogether by a computer in order to form detailedpictures of areas inside the body.\\nCystoscopy —A diagnostic procedure where a hol-\\nlow lighted tube, (cystoscope) is used to look insidethe bladder and the urethra.\\nElectrofulguration —A procedure where a high-ener-\\ngy laser beam is used to burn the cancerous tissue.Immunotherapy —Treatment of cancer by stimulat-\\ning the body’s immune defense system.\\nIntravenous pyelogram (IVP) —A procedure where\\na dye is injected into a vein in the arm. The dye trav-els through the body and then concentrates in theurine to be excreted. It outlines the kidneys, ureters,and the urinary bladder. An x-ray of the pelvicregion is then taken and any abnormalities of theurinary tract are revealed.\\nMagnetic Resonance Imaging (MRI) —A medical', metadata={'source': 'data\\\\71763-gale-encyclopedia-of-medicine.-vol.-1.-2nd-ed.pdf', 'page': 522})]\n"
     ]
    }
   ],
   "source": [
    "embeddings = FastEmbedEmbeddings()\n",
    "\n",
    "new_db = FAISS.load_local(faiss_db,embeddings)\n",
    "\n",
    "query=\"what is medical?\"\n",
    "docs = new_db.similarity_search(query)\n",
    "print(docs)"
   ]
  }
 ],
 "metadata": {
  "kernelspec": {
   "display_name": "venv",
   "language": "python",
   "name": "python3"
  },
  "language_info": {
   "codemirror_mode": {
    "name": "ipython",
    "version": 3
   },
   "file_extension": ".py",
   "mimetype": "text/x-python",
   "name": "python",
   "nbconvert_exporter": "python",
   "pygments_lexer": "ipython3",
   "version": "3.10.10"
  }
 },
 "nbformat": 4,
 "nbformat_minor": 2
}
